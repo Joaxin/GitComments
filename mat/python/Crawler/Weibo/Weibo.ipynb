{
 "cells": [
  {
   "cell_type": "markdown",
   "metadata": {},
   "source": [
    "## Ajax"
   ]
  },
  {
   "cell_type": "markdown",
   "metadata": {},
   "source": [
    "### Weibo"
   ]
  },
  {
   "cell_type": "markdown",
   "metadata": {},
   "source": [
    "### Find ID"
   ]
  },
  {
   "cell_type": "code",
   "execution_count": null,
   "metadata": {
    "collapsed": true
   },
   "outputs": [],
   "source": [
    " - https://weibo.com/sjorchid\n",
    "\n",
    "- https://weibo.com/p/aj/recommendlist?ajwvr=6&mid=sjorchid&location=page_230673_home&oid=1410812623&__rnd=1521034792889\n",
    "\n",
    "- https://m.weibo.cn/u/1410812623"
   ]
  },
  {
   "cell_type": "markdown",
   "metadata": {},
   "source": [
    "### Create Database"
   ]
  },
  {
   "cell_type": "code",
   "execution_count": 65,
   "metadata": {},
   "outputs": [
    {
     "name": "stdout",
     "output_type": "stream",
     "text": [
      "Successful\n",
      "<connection object at 0x05C767E8; dsn: 'user=lysql password=xxx dbname=demo host=127.0.0.1 port=5432', closed: 0>\n"
     ]
    }
   ],
   "source": [
    "import psycopg2\n",
    "\n",
    "conn = psycopg2.connect(database=\"demo\", user=\"lysql\", password=\"123456\", host=\"127.0.0.1\", port=\"5432\")\n",
    "try:  \n",
    "    cursor = conn.cursor()\n",
    "    transaction = cursor.execute(\"\"\"CREATE TABLE orchid(\n",
    "    ID  SERIAL PRIMARY KEY NOT NULL,\n",
    "    UID  BIGINT NOT NULL,\n",
    "    TEXT    TEXT NOT NULL,\n",
    "    ATTITUDES    TEXT NOT NULL,\n",
    "    COMMENTS   TEXT NOT NULL,\n",
    "    REPOSTS    INT NOT NULL,\n",
    "    SCHEME    TEXT NOT NULL);\n",
    "       \"\"\")\n",
    "    print('Successful')\n",
    "    conn.commit()\n",
    "except (Exception, psycopg2.DatabaseError) as error:\n",
    "        print(error)\n",
    "finally:\n",
    "        print(conn)\n",
    "        if conn is not None:\n",
    "            conn.close()"
   ]
  },
  {
   "cell_type": "markdown",
   "metadata": {},
   "source": [
    "### TEST"
   ]
  },
  {
   "cell_type": "code",
   "execution_count": null,
   "metadata": {
    "collapsed": true
   },
   "outputs": [],
   "source": [
    "import requests\n",
    "from urllib.parse import urlencode\n",
    "from pyquery import PyQuery as pq\n",
    "\n",
    "base_url = 'https://m.weibo.cn/api/container/getIndex?'\n",
    "headers = {\n",
    "    'Host': 'm.weibo.cn',\n",
    "    'Referer': 'https://m.weibo.cn/u/1410812623',\n",
    "    'User-Agent': 'Mozilla/5.0 (Macintosh; Intel Mac OS X 10_12_3) AppleWebKit/537.36 (KHTML, like Gecko) Chrome/58.0.3029.110 Safari/537.36',\n",
    "    'X-Requested-With': 'XMLHttpRequest',\n",
    "}\n",
    "\n",
    "max_page = 100\n",
    "\n",
    "def get_page(page):\n",
    "    params = {\n",
    "        'type': 'uid',\n",
    "        'value': '1410812623',\n",
    "        'containerid': '1076031410812623',\n",
    "        'page': page\n",
    "    }\n",
    "    url = base_url + urlencode(params)\n",
    "    try:\n",
    "        response = requests.get(url, headers=headers)\n",
    "        if response.status_code == 200:\n",
    "            return response.json()\n",
    "    except requests.ConnectionError as e:\n",
    "        print('Error', e.args)\n",
    "\n",
    "# get_page(1)"
   ]
  },
  {
   "cell_type": "markdown",
   "metadata": {},
   "source": [
    "### Parse Page"
   ]
  },
  {
   "cell_type": "code",
   "execution_count": null,
   "metadata": {
    "collapsed": true
   },
   "outputs": [],
   "source": [
    "def parse_page(json):\n",
    "    if json:\n",
    "        items = json.get('data').get('cards')\n",
    "        for item in items:\n",
    "            weibo = {}\n",
    "            weibo['scheme'] = item.get('scheme')\n",
    "            item = item.get('mblog')\n",
    "            weibo['uid'] = item.get('id')\n",
    "            weibo['text'] = pq(item.get('text')).text()\n",
    "            weibo['attitudes'] = item.get('attitudes_count')\n",
    "            weibo['comments'] = item.get('comments_count')\n",
    "            weibo['reposts'] = item.get('reposts_count')\n",
    "            yield weibo\n",
    "            \n",
    "def save_orchid(data):\n",
    "    conn = psycopg2.connect(database=\"demo\", user=\"lysql\", password=\"123456\", host=\"127.0.0.1\", port=\"5432\")\n",
    "    table = \"orchid\"\n",
    "    keys = ', '.join(data.keys())\n",
    "    values = ', '.join(['%s'] * len(data))\n",
    "    sql = 'INSERT INTO {table}({keys}) VALUES ({values})'.format(table=table, keys=keys, values=values)\n",
    "    try:  \n",
    "        cursor = conn.cursor()\n",
    "        cursor.execute(sql, tuple(data.values()));\n",
    "        conn.commit()\n",
    "        print (\"Records created successfully\");\n",
    "    except (Exception, psycopg2.DatabaseError) as error:\n",
    "            print(error)\n",
    "    finally:\n",
    "            if conn is not None:\n",
    "                conn.close()"
   ]
  },
  {
   "cell_type": "markdown",
   "metadata": {},
   "source": [
    "###  Scrap"
   ]
  },
  {
   "cell_type": "code",
   "execution_count": 63,
   "metadata": {
    "collapsed": true
   },
   "outputs": [],
   "source": [
    "for page in range(2, max_page+1):\n",
    "        json = get_page(page)\n",
    "        results = parse_page(json)\n",
    "        for result in results:\n",
    "            print(result)\n",
    "            save_orchid(result)"
   ]
  },
  {
   "cell_type": "code",
   "execution_count": null,
   "metadata": {
    "collapsed": true
   },
   "outputs": [],
   "source": []
  }
 ],
 "metadata": {
  "kernelspec": {
   "display_name": "Python 3",
   "language": "python",
   "name": "python3"
  },
  "language_info": {
   "codemirror_mode": {
    "name": "ipython",
    "version": 3
   },
   "file_extension": ".py",
   "mimetype": "text/x-python",
   "name": "python",
   "nbconvert_exporter": "python",
   "pygments_lexer": "ipython3",
   "version": "3.6.2"
  }
 },
 "nbformat": 4,
 "nbformat_minor": 2
}
