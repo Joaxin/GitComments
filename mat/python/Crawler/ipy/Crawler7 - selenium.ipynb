{
 "cells": [
  {
   "cell_type": "markdown",
   "metadata": {},
   "source": [
    "# Python Web Crawler  7 - Selenium"
   ]
  },
  {
   "cell_type": "markdown",
   "metadata": {
    "collapsed": true
   },
   "source": [
    "### Webdriver"
   ]
  },
  {
   "cell_type": "markdown",
   "metadata": {},
   "source": [
    "- browser = webdriver.Chrome()\n",
    "- browser = webdriver.Firefox()\n",
    "- browser = webdriver.Edge()\n",
    "- browser = webdriver.PhantomJS()\n",
    "- browser = webdriver.Safari()\n"
   ]
  },
  {
   "cell_type": "code",
   "execution_count": 11,
   "metadata": {},
   "outputs": [
    {
     "data": {
      "text/plain": [
       "<selenium.webdriver.remote.webelement.WebElement (session=\"79a05cb08e038e55bb67cccde1a721d3\", element=\"0.01975843313654524-2\")>"
      ]
     },
     "execution_count": 11,
     "metadata": {},
     "output_type": "execute_result"
    },
    {
     "name": "stdout",
     "output_type": "stream",
     "text": [
      "https://www.baidu.com/s?ie=utf-8&f=8&rsv_bp=0&rsv_idx=1&tn=baidu&wd=Python&rsv_pq=c70562c000041f36&rsv_t=a076ZhTKlVhfEEZFBKnGxzdC3PrCjQyUZvslmdIJf7Lfi77BXx4uTsdjolI&rqlang=cn&rsv_enter=1&rsv_sug3=6&rsv_sug2=0&inputT=476&rsv_sug4=477\n"
     ]
    }
   ],
   "source": [
    "from selenium import webdriver\n",
    "from selenium.webdriver.common.by import By\n",
    "from selenium.webdriver.common.keys import Keys\n",
    "from selenium.webdriver.support import expected_conditions as EC\n",
    "from selenium.webdriver.support.wait import WebDriverWait\n",
    " \n",
    "browser = webdriver.Chrome()\n",
    "try:\n",
    "    browser.get('https://www.baidu.com')\n",
    "    input = browser.find_element_by_id('kw')\n",
    "    input.send_keys('Python')\n",
    "    input.send_keys(Keys.ENTER)\n",
    "    wait = WebDriverWait(browser, 10)\n",
    "    wait.until(EC.presence_of_element_located((By.ID, 'content_left')))\n",
    "    print(browser.current_url)\n",
    "    # print(browser.page_source)\n",
    "finally:\n",
    "    browser.close()"
   ]
  },
  {
   "cell_type": "markdown",
   "metadata": {},
   "source": [
    "### Find Nodes"
   ]
  },
  {
   "cell_type": "code",
   "execution_count": null,
   "metadata": {
    "collapsed": true
   },
   "outputs": [],
   "source": [
    "| find_element(By.XX, \"YY\")         | find_elements(By.XX, 'YY')         |\n",
    "| --------------------------------- | ---------------------------------- |\n",
    "| find_element_by_id                | find_elements_by_id                |\n",
    "| find_element_by_name              | find_elements_by_name              |\n",
    "| find_element_by_xpath             | find_elements_by_xpath             |\n",
    "| find_element_by_link_text         | find_elements_by_link_text         |\n",
    "| find_element_by_partial_link_text | find_elements_by_partial_link_text |\n",
    "| find_element_by_tag_name          | find_elements_by_tag_name          |\n",
    "| find_element_by_class_name        | find_elements_by_class_name        |\n",
    "| find_element_by_css_selector      | find_elements_by_css_selector      |\n",
    "\n",
    "input= browser.find_element_by_css_selector('#q')\n",
    "input = browser.find_element_by_xpath('//*[@id=\"q\"]')\n",
    "input = browser.find_element_by_id('q')"
   ]
  },
  {
   "cell_type": "code",
   "execution_count": 13,
   "metadata": {},
   "outputs": [
    {
     "name": "stdout",
     "output_type": "stream",
     "text": [
      "<selenium.webdriver.remote.webelement.WebElement (session=\"83231186bd470037ae4c1216f6f09b9f\", element=\"0.8243104404533572-1\")> <selenium.webdriver.remote.webelement.WebElement (session=\"83231186bd470037ae4c1216f6f09b9f\", element=\"0.8243104404533572-2\")>\n"
     ]
    }
   ],
   "source": [
    "from selenium import webdriver\n",
    "import time\n",
    "from selenium.webdriver.common.by import By\n",
    "from selenium.webdriver.support.ui import WebDriverWait\n",
    "from selenium.webdriver.support import expected_conditions as EC\n",
    " \n",
    "\n",
    "browser = webdriver.Chrome()\n",
    "browser.get('https://www.taobao.com')\n",
    "# browser.implicitly_wait(10)\n",
    "wait = WebDriverWait(browser, 10)\n",
    "input = wait.until(EC.presence_of_element_located((By.ID, 'q')))\n",
    "button = wait.until(EC.element_to_be_clickable((By.CSS_SELECTOR, '.btn-search')))\n",
    "print(input, button)\n",
    "\n",
    "input.send_keys('iPhone')\n",
    "time.sleep(1)\n",
    "input.clear()\n",
    "input.send_keys('iPad')\n",
    "button = browser.find_element_by_class_name('btn-search')\n",
    "button.click()\n",
    "browser.close()"
   ]
  },
  {
   "cell_type": "markdown",
   "metadata": {},
   "source": [
    "### Action chains"
   ]
  },
  {
   "cell_type": "code",
   "execution_count": 9,
   "metadata": {},
   "outputs": [
    {
     "data": {
      "text/plain": [
       "<selenium.webdriver.common.action_chains.ActionChains at 0x5a78df0>"
      ]
     },
     "execution_count": 9,
     "metadata": {},
     "output_type": "execute_result"
    }
   ],
   "source": [
    "from selenium import webdriver\n",
    "from selenium.webdriver import ActionChains\n",
    "browser = webdriver.Chrome()\n",
    "url = 'http://www.runoob.com/try/try.php?filename=jqueryui-api-droppable'\n",
    "browser.get(url)\n",
    "browser.switch_to.frame('iframeResult')\n",
    "source = browser.find_element_by_css_selector('#draggable')\n",
    "target = browser.find_element_by_css_selector('#droppable')\n",
    "actions = ActionChains(browser)\n",
    "actions.drag_and_drop(source, target)\n",
    "actions.perform()\n",
    "browser.close()"
   ]
  },
  {
   "cell_type": "code",
   "execution_count": 21,
   "metadata": {
    "collapsed": true
   },
   "outputs": [],
   "source": [
    "from selenium import webdriver\n",
    "browser = webdriver.Chrome()\n",
    "browser.get('https://www.zhihu.com/explore')\n",
    "browser.execute_script('window.scrollTo(0, document.body.scrollHeight)')\n",
    "browser.execute_script('alert(\"To Bottom\")')"
   ]
  },
  {
   "cell_type": "markdown",
   "metadata": {},
   "source": [
    "### iFrame"
   ]
  },
  {
   "cell_type": "code",
   "execution_count": 22,
   "metadata": {},
   "outputs": [
    {
     "name": "stdout",
     "output_type": "stream",
     "text": [
      "NO LOGO\n",
      "<selenium.webdriver.remote.webelement.WebElement (session=\"012ebef8608abbba12f8298de6cebb25\", element=\"0.9532684819811263-2\")>\n",
      "RUNOOB.COM\n"
     ]
    }
   ],
   "source": [
    "import time\n",
    "from selenium import webdriver\n",
    "from selenium.common.exceptions import NoSuchElementException\n",
    " \n",
    "browser = webdriver.Chrome()\n",
    "url = 'http://www.runoob.com/try/try.php?filename=jqueryui-api-droppable'\n",
    "browser.get(url)\n",
    "browser.switch_to.frame('iframeResult')\n",
    "try:\n",
    "    logo = browser.find_element_by_class_name('logo')\n",
    "except NoSuchElementException:\n",
    "    print('NO LOGO')\n",
    "browser.switch_to.parent_frame()\n",
    "logo = browser.find_element_by_class_name('logo')\n",
    "print(logo)\n",
    "print(logo.text)"
   ]
  },
  {
   "cell_type": "markdown",
   "metadata": {},
   "source": [
    "### Tabs"
   ]
  },
  {
   "cell_type": "code",
   "execution_count": 23,
   "metadata": {
    "collapsed": true
   },
   "outputs": [],
   "source": [
    "import time\n",
    "from selenium import webdriver\n",
    " \n",
    "browser = webdriver.Chrome()\n",
    "browser.get('https://www.baidu.com/')\n",
    "browser.get('https://www.taobao.com/')\n",
    "browser.get('https://www.python.org/')\n",
    "browser.back()\n",
    "time.sleep(1)\n",
    "browser.forward()\n",
    "browser.close()"
   ]
  },
  {
   "cell_type": "code",
   "execution_count": 25,
   "metadata": {},
   "outputs": [
    {
     "name": "stdout",
     "output_type": "stream",
     "text": [
      "['CDwindow-1AAC3D9C5F28FBD541D8295A9819C9AE', 'CDwindow-5F635540847830EFF044936342578F88']\n"
     ]
    }
   ],
   "source": [
    "import time\n",
    "from selenium import webdriver\n",
    " \n",
    "browser = webdriver.Chrome()\n",
    "browser.get('https://www.baidu.com')\n",
    "browser.execute_script('window.open()')\n",
    "print(browser.window_handles)\n",
    "browser.switch_to_window(browser.window_handles[1])\n",
    "browser.get('https://www.taobao.com')\n",
    "time.sleep(1)\n",
    "browser.switch_to_window(browser.window_handles[0])\n",
    "browser.get('https://python.org')\n",
    "browser.close()"
   ]
  },
  {
   "cell_type": "markdown",
   "metadata": {},
   "source": [
    "### Cookies"
   ]
  },
  {
   "cell_type": "code",
   "execution_count": 24,
   "metadata": {},
   "outputs": [
    {
     "name": "stdout",
     "output_type": "stream",
     "text": [
      "[{'domain': '.zhihu.com', 'httpOnly': False, 'name': 'l_n_c', 'path': '/', 'secure': False, 'value': '1'}, {'domain': '.zhihu.com', 'expiry': 1615879759.718172, 'httpOnly': False, 'name': 'q_c1', 'path': '/', 'secure': False, 'value': '222dea0826cc4b21beb7d0de33b73676|1521271809000|1521271809000'}, {'domain': 'www.zhihu.com', 'httpOnly': False, 'name': '_xsrf', 'path': '/', 'secure': False, 'value': '90b1cb510aec37d0ac48aa1c4f16be91'}, {'domain': 'www.zhihu.com', 'expiry': 1623283149.675004, 'httpOnly': False, 'name': '__DAYU_PP', 'path': '/', 'secure': False, 'value': 'ZvMafBfqe36euJeUUvvfffffffffefc88b57ff76'}, {'domain': '.zhihu.com', 'expiry': 1523863759.718305, 'httpOnly': False, 'name': 'r_cap_id', 'path': '/', 'secure': False, 'value': '\"NWU2NzhkYjEzMzIyNGE3M2JmNzU2ODExYjIxNGI3OTk=|1521271809|c9d94061baa96bf4440d4dfb2c3d13be200747e6\"'}, {'domain': '.zhihu.com', 'expiry': 1523863759.71839, 'httpOnly': False, 'name': 'cap_id', 'path': '/', 'secure': False, 'value': '\"Y2UyNzFjOTNjYmNjNDAzMGJmNzZkYjQzZWI4MjkyNWQ=|1521271809|2dc7e60f94d36d248a8e566984e3c3ee4ca3a98a\"'}, {'domain': '.zhihu.com', 'expiry': 1523863759.718472, 'httpOnly': False, 'name': 'l_cap_id', 'path': '/', 'secure': False, 'value': '\"Yzk1YmNhM2UwYTU2NDYyMGFmNmQ3YzFkODE0OGQxYmQ=|1521271809|dac9707e27632ff97070d70a0814ff1084aef298\"'}, {'domain': '.zhihu.com', 'httpOnly': False, 'name': 'n_c', 'path': '/', 'secure': False, 'value': '1'}, {'domain': '.zhihu.com', 'expiry': 1615879766.562657, 'httpOnly': False, 'name': 'd_c0', 'path': '/', 'secure': False, 'value': '\"AFAthxvLTA2PTmmzXU9QRJItszDm0RntPZA=|1521271816\"'}, {'domain': '.zhihu.com', 'expiry': 1584343767, 'httpOnly': False, 'name': '_zap', 'path': '/', 'secure': False, 'value': 'f163f1a6-9565-4f25-82e6-d5cde1f554fe'}]\n",
      "[{'domain': '.zhihu.com', 'httpOnly': False, 'name': 'l_n_c', 'path': '/', 'secure': False, 'value': '1'}, {'domain': '.zhihu.com', 'expiry': 1615879759.718172, 'httpOnly': False, 'name': 'q_c1', 'path': '/', 'secure': False, 'value': '222dea0826cc4b21beb7d0de33b73676|1521271809000|1521271809000'}, {'domain': 'www.zhihu.com', 'httpOnly': False, 'name': '_xsrf', 'path': '/', 'secure': False, 'value': '90b1cb510aec37d0ac48aa1c4f16be91'}, {'domain': 'www.zhihu.com', 'expiry': 1623283149.675004, 'httpOnly': False, 'name': '__DAYU_PP', 'path': '/', 'secure': False, 'value': 'ZvMafBfqe36euJeUUvvfffffffffefc88b57ff76'}, {'domain': '.zhihu.com', 'expiry': 1523863759.718305, 'httpOnly': False, 'name': 'r_cap_id', 'path': '/', 'secure': False, 'value': '\"NWU2NzhkYjEzMzIyNGE3M2JmNzU2ODExYjIxNGI3OTk=|1521271809|c9d94061baa96bf4440d4dfb2c3d13be200747e6\"'}, {'domain': '.zhihu.com', 'expiry': 1523863759.71839, 'httpOnly': False, 'name': 'cap_id', 'path': '/', 'secure': False, 'value': '\"Y2UyNzFjOTNjYmNjNDAzMGJmNzZkYjQzZWI4MjkyNWQ=|1521271809|2dc7e60f94d36d248a8e566984e3c3ee4ca3a98a\"'}, {'domain': '.zhihu.com', 'expiry': 1523863759.718472, 'httpOnly': False, 'name': 'l_cap_id', 'path': '/', 'secure': False, 'value': '\"Yzk1YmNhM2UwYTU2NDYyMGFmNmQ3YzFkODE0OGQxYmQ=|1521271809|dac9707e27632ff97070d70a0814ff1084aef298\"'}, {'domain': '.zhihu.com', 'httpOnly': False, 'name': 'n_c', 'path': '/', 'secure': False, 'value': '1'}, {'domain': '.zhihu.com', 'expiry': 1615879766.562657, 'httpOnly': False, 'name': 'd_c0', 'path': '/', 'secure': False, 'value': '\"AFAthxvLTA2PTmmzXU9QRJItszDm0RntPZA=|1521271816\"'}, {'domain': '.zhihu.com', 'expiry': 1584343767, 'httpOnly': False, 'name': '_zap', 'path': '/', 'secure': False, 'value': 'f163f1a6-9565-4f25-82e6-d5cde1f554fe'}, {'domain': 'www.zhihu.com', 'expiry': 2151991767, 'httpOnly': False, 'name': 'name', 'path': '/', 'secure': True, 'value': 'germey'}]\n",
      "[]\n"
     ]
    }
   ],
   "source": [
    "from selenium import webdriver\n",
    "\n",
    "option = webdriver.ChromeOptions()\n",
    "option.add_argument('headless') # disable chrome windows\n",
    "browser = webdriver.Chrome(chrome_options=option)\n",
    "browser.get('https://www.zhihu.com/explore')\n",
    "print(browser.get_cookies())\n",
    "browser.add_cookie({'name': 'name', 'domain': 'www.zhihu.com', 'value': 'germey'})\n",
    "print(browser.get_cookies())\n",
    "browser.delete_all_cookies()\n",
    "print(browser.get_cookies())\n",
    "browser.close()"
   ]
  },
  {
   "cell_type": "markdown",
   "metadata": {},
   "source": [
    "### TAOBAO LINKS"
   ]
  },
  {
   "cell_type": "code",
   "execution_count": null,
   "metadata": {
    "collapsed": true
   },
   "outputs": [],
   "source": [
    "from selenium import webdriver\n",
    "from selenium.common.exceptions import TimeoutException\n",
    "import time\n",
    "\n",
    "browser = webdriver.Chrome()\n",
    "browser.get('https://www.taobao.com')\n",
    "try:\n",
    "    items = browser.find_elements_by_css_selector('.service-bd li a')\n",
    "    for item in enumerate(items):\n",
    "        print(\"### [\",item[1].text,\"]\",\"(\",item[1].get_attribute('href'),\")\",sep=\"\")\n",
    "        print(\"---\")\n",
    "        pat = \".service-bd li[data-groupid='{0}'] i\".format(101 + int(item[0]/3))\n",
    "        # print(pat)\n",
    "        browser.find_element_by_css_selector(pat).click()\n",
    "        time.sleep(2)\n",
    "        pat = \"//div[@data-index='{0}']//div[@class='service-panel'][{1}]//p//a\".format(int(item[0]/3),int(item[0]%3+1))\n",
    "        # print(pat)\n",
    "        things = browser.find_elements_by_xpath(pat)\n",
    "        for thing in enumerate(things):\n",
    "            print(\"[\",thing[1].text,\"]\",\"(\",thing[1].get_attribute('href'),\")\",sep=\"\",end=\" \"*(16 - len(thing[1].text)))\n",
    "            if (thing[0] + 1) % 8==0:\n",
    "                print()\n",
    "        print(\"\\n\")\n",
    "except TimeoutException:\n",
    "    print('Time Out')\n",
    "except AttributeError:\n",
    "    print(\"Check AttributeError\")\n",
    "finally:\n",
    "    browser.close()"
   ]
  },
  {
   "cell_type": "markdown",
   "metadata": {},
   "source": [
    "## REFERENVES"
   ]
  },
  {
   "cell_type": "code",
   "execution_count": null,
   "metadata": {
    "collapsed": true
   },
   "outputs": [],
   "source": [
    "http://selenium-python.readthedocs.io/\n",
    "https://cuiqingcai.com/5630.html"
   ]
  }
 ],
 "metadata": {
  "kernelspec": {
   "display_name": "Python 3",
   "language": "python",
   "name": "python3"
  },
  "language_info": {
   "codemirror_mode": {
    "name": "ipython",
    "version": 3
   },
   "file_extension": ".py",
   "mimetype": "text/x-python",
   "name": "python",
   "nbconvert_exporter": "python",
   "pygments_lexer": "ipython3",
   "version": "3.6.2"
  }
 },
 "nbformat": 4,
 "nbformat_minor": 2
}
