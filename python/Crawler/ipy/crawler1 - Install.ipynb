{
 "cells": [
  {
   "cell_type": "markdown",
   "metadata": {},
   "source": [
    "# Python Web Crawler  1 - Install"
   ]
  },
  {
   "cell_type": "markdown",
   "metadata": {},
   "source": [
    "##  Treasures\n",
    "### Requests\n",
    "- (http://www.python-requests.org](http://www.python-requests.org/)\n",
    "- (http://docs.python-requests.org/zh_CN/latest)\n",
    "### Aiohttp\n",
    "- (http://aiohttp.readthedocs.io/en/stable/)\n",
    "### Beautifulsoup\n",
    "- (https://www.crummy.com/software/BeautifulSoup/bs4/doc\n",
    "###  Selenium\n",
    "- (http://selenium-python.readthedocs.io)\n",
    "- (http://selenium-python-zh.readthedocs.io)\n",
    "- (https://chromedriver.storage.googleapis.com/index.html?path=2.31/)\n",
    "- (https://github.com/mozilla/geckodriver/releases)\n",
    "- (http://phantomjs.org)\n",
    "### Pyquery\n",
    "- (http://pyquery.readthedocs.io)\n",
    "### Tesserocr\n",
    "- (https://github.com/tesseract-ocr/tesseract/wiki/Documentation)\n",
    "- (https://github.com/tesseract-ocr/tesseract)\n",
    "- (https://github.com/sirfz/tesserocr)\n",
    "- (https://digi.bib.uni-mannheim.de/tesseract/tesseract-ocr-setup-3.05.01.exe)\n",
    "### Redis\n",
    "- (https://github.com/MSOpenTech/redis/releases)\n",
    "- (https://redisdesktop.com)\n",
    "- (http://www.runoob.com/redis/redis-tutorial.html)\n",
    "### WEB\n",
    "- (http://www.tornadoweb.org)\n",
    "-  (http://flask.pocoo.org)\n",
    "- (http://docs.jinkan.org/docs/flask)\n",
    "### Frames\n",
    "- (http://docs.pyspider.org/en/latest/tutorial)\n",
    "- (http://demo.pyspider.org)\n",
    "- (http://scrapy-chs.readthedocs.io)\n",
    "- (https://www.lfd.uci.edu/~gohlke/pythonlibs/#twisted)\n"
   ]
  },
  {
   "cell_type": "markdown",
   "metadata": {
    "collapsed": true
   },
   "source": [
    "# Some Test"
   ]
  },
  {
   "cell_type": "code",
   "execution_count": null,
   "metadata": {
    "collapsed": true
   },
   "outputs": [],
   "source": [
    "import requests\n",
    "url=\"https://cn.bing.com/\"\n",
    "page = requests.get(url)\n",
    "print(page)\n",
    "# <Response [200]>\n",
    "print(page.text)\n",
    "#\n",
    "# <!DOCTYPE HTML PUBLIC \"-//IETF//DTD HTML 2.0//EN\">\n",
    "# <html>\n",
    "# ...\n",
    "\n",
    "import aiohttp # async/await\n",
    "#pip3 install cchardet aiodns"
   ]
  },
  {
   "cell_type": "code",
   "execution_count": null,
   "metadata": {
    "collapsed": true
   },
   "outputs": [],
   "source": [
    "from selenium import webdriver\n",
    "chrome = webdriver.Chrome() \n",
    "# chromedriver\n",
    "# chrome broswer blank pages\n",
    "\n",
    "from selenium import webdriver\n",
    "firefox = webdriver.Firefox()\n",
    "# geckodriver\n",
    "# Haha, Message: TypeError: Given browserName [object String] \"firefox\", but my name is [object String] \"waterfox\n",
    "\n",
    "from selenium import webdriver\n",
    "browser = webdriver.PhantomJS()\n",
    "browser.get('https://cn.bing.com/')\n",
    "print(browser.current_url)\n",
    "# https://cn.bing.com/"
   ]
  },
  {
   "cell_type": "code",
   "execution_count": null,
   "metadata": {
    "collapsed": true
   },
   "outputs": [],
   "source": [
    "# pip3 install tesserocr pillow\n",
    "## ubuntu\n",
    "# sudo apt-get install -y tesseract-ocr libtesseract-dev libleptonica-dev\n",
    "# tesseract --list-langs\n",
    "# \ttesseract image.png result -l eng && cat result.txt\n",
    "# https://raw.githubusercontent.com/Python3WebSpider/TestTess/master/image.png\n",
    "import tesserocr\n",
    "from PIL import Image\n",
    "image = Image.open('image.png')\n",
    "print(tesserocr.image_to_text(image))\n",
    "print(tesserocr.file_to_text('image.png'))"
   ]
  },
  {
   "cell_type": "code",
   "execution_count": 11,
   "metadata": {},
   "outputs": [
    {
     "data": {
      "text/plain": [
       "(2, 10, 6)"
      ]
     },
     "execution_count": 11,
     "metadata": {},
     "output_type": "execute_result"
    }
   ],
   "source": [
    "import redis\n",
    "redis.VERSION\n",
    "# (2, 10, 6)"
   ]
  },
  {
   "cell_type": "code",
   "execution_count": null,
   "metadata": {
    "collapsed": true
   },
   "outputs": [],
   "source": [
    "import tornado.ioloop\n",
    "import tornado.web\n",
    " \n",
    "class MainHandler(tornado.web.RequestHandler):\n",
    "    def get(self):\n",
    "        self.write(\"Hello, world\")\n",
    " \n",
    "def make_app():\n",
    "    return tornado.web.Application([\n",
    "        (r\"/\", MainHandler),\n",
    "    ])\n",
    " \n",
    "if __name__ == \"__main__\":\n",
    "    app = make_app()\n",
    "    app.listen(8888)\n",
    "    tornado.ioloop.IOLoop.current().start()"
   ]
  },
  {
   "cell_type": "code",
   "execution_count": null,
   "metadata": {
    "collapsed": true
   },
   "outputs": [],
   "source": [
    "from flask import Flask\n",
    "app = Flask(__name__)\n",
    " \n",
    "@app.route(\"/\")\n",
    "def hello():\n",
    "    return \"Hello World!\"\n",
    " \n",
    "if __name__ == \"__main__\":\n",
    "    app.run()\n"
   ]
  },
  {
   "cell_type": "code",
   "execution_count": null,
   "metadata": {
    "collapsed": true
   },
   "outputs": [],
   "source": [
    "import pyspider\n",
    "# pyspider all\n",
    "import scrapy\n",
    "# if you failed with Twisted install 32 instead\n",
    "# scrapy\n",
    "# pip3 install scrapy-redis\n"
   ]
  }
 ],
 "metadata": {
  "kernelspec": {
   "display_name": "Python 3",
   "language": "python",
   "name": "python3"
  },
  "language_info": {
   "codemirror_mode": {
    "name": "ipython",
    "version": 3
   },
   "file_extension": ".py",
   "mimetype": "text/x-python",
   "name": "python",
   "nbconvert_exporter": "python",
   "pygments_lexer": "ipython3",
   "version": "3.6.2"
  }
 },
 "nbformat": 4,
 "nbformat_minor": 2
}
