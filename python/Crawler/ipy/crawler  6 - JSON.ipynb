{
 "cells": [
  {
   "cell_type": "markdown",
   "metadata": {},
   "source": [
    "# Python Web Crawler  6 - JSON"
   ]
  },
  {
   "cell_type": "code",
   "execution_count": null,
   "metadata": {
    "collapsed": true
   },
   "outputs": [],
   "source": [
    "JSON: JavaScript Object Notation"
   ]
  },
  {
   "cell_type": "markdown",
   "metadata": {},
   "source": [
    "### Intro"
   ]
  },
  {
   "cell_type": "code",
   "execution_count": 17,
   "metadata": {},
   "outputs": [
    {
     "name": "stdout",
     "output_type": "stream",
     "text": [
      "[{'keys': ['f12'], 'command': 'open_in_browser'}, {'keys': ['f1'], 'command': 'side_bar_files_open_with', 'args': {'paths': [], 'application': 'C:/Program Files (x86)/Google/Chrome/Application/chrome.exe', 'extensions': '.*'}}, {'keys': ['f2'], 'command': 'side_bar_files_open_with', 'args': {'paths': [], 'application': 'D:/Program Files/fiefox/firefox.exe', 'extensions': '.*'}}, {'keys': ['f3'], 'command': 'side_bar_files_open_with', 'args': {'paths': [], 'application': 'C:/Program Files/Internet Explorer/iexplore.exe', 'extensions': '.*'}}]\n",
      "<class 'list'>\n"
     ]
    }
   ],
   "source": [
    "import json\n",
    "Browsers = '''\n",
    "   [{ \"keys\": [\"f12\"], \"command\": \"open_in_browser\" },\n",
    "    { \"keys\": [\"f1\"], \"command\": \"side_bar_files_open_with\",\n",
    "            \"args\": {\n",
    "                \"paths\": [],\n",
    "                \"application\": \"C:/Program Files (x86)/Google/Chrome/Application/chrome.exe\",\n",
    "                \"extensions\":\".*\"\n",
    "            }\n",
    "     },\n",
    "    { \"keys\": [\"f2\"], \"command\": \"side_bar_files_open_with\",\n",
    "             \"args\": {\n",
    "                \"paths\": [],\n",
    "                \"application\": \"D:/Program Files/fiefox/firefox.exe\",\n",
    "                \"extensions\":\".*\"\n",
    "            }\n",
    "    },\n",
    "     { \"keys\": [\"f3\"], \"command\": \"side_bar_files_open_with\",\n",
    "             \"args\": {\n",
    "                \"paths\": [],\n",
    "                \"application\": \"C:/Program Files/Internet Explorer/iexplore.exe\",\n",
    "                \"extensions\":\".*\"\n",
    "            }\n",
    "     }\n",
    "    ]\n",
    "'''\n",
    "dat = json.loads(Browsers)\n",
    "print(dat)\n",
    "# [{'keys': ['f12'], 'command': 'open_in_browser'},\\\n",
    "#  {'keys': ['f1'], 'command': 'side_bar_files_open_with', 'args': {'paths': [], 'application':\\'C:/Program Files/Chrome/Application/chrome.exe', 'extensions': '.*'}}, \\\n",
    "#  {'keys': ['f2'], 'command': 'side_bar_files_open_with', 'args': {'paths': [], 'application': 'D:/Program Files/fiefox/firefox.exe', 'extensions': '.*'}},\\\n",
    "#  {'keys': ['f3'], 'command': 'side_bar_files_open_with', 'args': {'paths': [], 'application': 'C:/Program Files/Internet Explorer/iexplore.exe', 'extensions': '.*'}}]\n",
    "print(type(dat))\n",
    "# <class 'list'>"
   ]
  },
  {
   "cell_type": "markdown",
   "metadata": {},
   "source": [
    "### Wrte json into a file"
   ]
  },
  {
   "cell_type": "code",
   "execution_count": 13,
   "metadata": {},
   "outputs": [],
   "source": [
    "with open('dat.json', 'w') as f:\n",
    "    f.write(json.dumps(dat,indent=2))"
   ]
  },
  {
   "cell_type": "code",
   "execution_count": 20,
   "metadata": {},
   "outputs": [],
   "source": [
    "dat[0][\"command\"] = \"在浏览器中打开\"\n",
    "with open('dat.json', 'w') as f:\n",
    "    f.write(json.dumps(dat,indent=2, ensure_ascii=False,sort_keys=True))"
   ]
  }
 ],
 "metadata": {
  "kernelspec": {
   "display_name": "Python 3",
   "language": "python",
   "name": "python3"
  },
  "language_info": {
   "codemirror_mode": {
    "name": "ipython",
    "version": 3
   },
   "file_extension": ".py",
   "mimetype": "text/x-python",
   "name": "python",
   "nbconvert_exporter": "python",
   "pygments_lexer": "ipython3",
   "version": "3.6.2"
  }
 },
 "nbformat": 4,
 "nbformat_minor": 2
}
